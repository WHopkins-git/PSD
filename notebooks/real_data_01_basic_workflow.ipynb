{
 "cells": [
  {
   "cell_type": "markdown",
   "metadata": {},
   "source": [
    "# Real Data Example 1: Basic PSD Workflow with Co-60\n",
    "\n",
    "This notebook demonstrates a complete PSD analysis workflow using **real Co-60 data**.\n",
    "\n",
    "## About Co-60\n",
    "- Cobalt-60 is a gamma emitter with two characteristic peaks:\n",
    "  - 1173.2 keV\n",
    "  - 1332.5 keV\n",
    "- Useful for energy calibration and detector characterization\n",
    "- Pure gamma source (no neutron contamination)\n",
    "\n",
    "## What You'll Learn\n",
    "1. Load real waveform data from CSV\n",
    "2. Quality control and event validation\n",
    "3. Calculate PSD parameters\n",
    "4. Visualize waveforms and PSD distributions\n",
    "5. Basic gamma spectroscopy"
   ]
  },
  {
   "cell_type": "markdown",
   "metadata": {},
   "source": [
    "## 1. Setup and Imports"
   ]
  },
  {
   "cell_type": "code",
   "execution_count": null,
   "metadata": {},
   "outputs": [],
   "source": [
    "import sys\n",
    "import numpy as np\n",
    "import pandas as pd\n",
    "import matplotlib.pyplot as plt\n",
    "\n",
    "# Add parent directory to path\n",
    "sys.path.insert(0, '..')\n",
    "\n",
    "from psd_analysis import (\n",
    "    load_psd_data,\n",
    "    validate_events,\n",
    "    calculate_psd_ratio,\n",
    "    find_peaks_in_spectrum\n",
    ")\n",
    "from psd_analysis.visualization import plot_psd_scatter, plot_energy_spectra\n",
    "\n",
    "plt.style.use('seaborn-v0_8-darkgrid')\n",
    "plt.rcParams['figure.figsize'] = (12, 6)\n",
    "\n",
    "print(\"✓ Imports successful\")"
   ]
  },
  {
   "cell_type": "markdown",
   "metadata": {},
   "source": [
    "## 2. Load Real Co-60 Data\n",
    "\n",
    "The data format is:\n",
    "```\n",
    "BOARD;CHANNEL;TIMETAG;ENERGY;ENERGYSHORT;FLAGS;PROBE_CODE;SAMPLES\n",
    "```\n",
    "where SAMPLES contains 368 waveform samples per event."
   ]
  },
  {
   "cell_type": "code",
   "execution_count": null,
   "metadata": {},
   "outputs": [],
   "source": [
    "# Load Co-60 data\n",
    "df = load_psd_data('../data/raw/co60_sample.csv')\n",
    "\n",
    "print(f\"\\n✓ Loaded {len(df)} events\")\n",
    "print(f\"\\nData columns:\")\n",
    "print(f\"  Metadata: BOARD, CHANNEL, TIMETAG, ENERGY, ENERGYSHORT, FLAGS, PROBE_CODE\")\n",
    "print(f\"  Waveforms: {df.shape[1] - 7} samples per event\")\n",
    "\n",
    "print(f\"\\nFirst few events:\")\n",
    "print(df[['ENERGY', 'ENERGYSHORT', 'FLAGS']].head())"
   ]
  },
  {
   "cell_type": "markdown",
   "metadata": {},
   "source": [
    "## 3. Visualize Raw Waveforms\n",
    "\n",
    "Let's look at the actual waveform shapes from the detector."
   ]
  },
  {
   "cell_type": "code",
   "execution_count": null,
   "metadata": {},
   "outputs": [],
   "source": [
    "# Extract waveform samples\n",
    "sample_cols = [col for col in df.columns if col.startswith('SAMPLE_')]\n",
    "waveform_0 = df[sample_cols].iloc[0].values\n",
    "waveform_1 = df[sample_cols].iloc[1].values\n",
    "\n",
    "# Time axis (4 ns per sample at 250 MHz)\n",
    "time_ns = np.arange(len(waveform_0)) * 4\n",
    "\n",
    "fig, axes = plt.subplots(2, 1, figsize=(14, 8))\n",
    "\n",
    "# Event 0\n",
    "ax = axes[0]\n",
    "ax.plot(time_ns, waveform_0, 'b-', linewidth=1.5, alpha=0.8)\n",
    "ax.axhline(np.mean(waveform_0[:50]), color='red', linestyle='--', \n",
    "           label=f'Baseline: {np.mean(waveform_0[:50]):.0f} ADC', linewidth=2)\n",
    "ax.set_xlabel('Time (ns)', fontsize=12, fontweight='bold')\n",
    "ax.set_ylabel('ADC Value', fontsize=12, fontweight='bold')\n",
    "ax.set_title(f'Event 0: E={df[\"ENERGY\"].iloc[0]} ADC, E_short={df[\"ENERGYSHORT\"].iloc[0]} ADC',\n",
    "             fontsize=13, fontweight='bold')\n",
    "ax.legend(fontsize=11)\n",
    "ax.grid(True, alpha=0.3)\n",
    "\n",
    "# Event 1\n",
    "ax = axes[1]\n",
    "ax.plot(time_ns, waveform_1, 'g-', linewidth=1.5, alpha=0.8)\n",
    "ax.axhline(np.mean(waveform_1[:50]), color='red', linestyle='--',\n",
    "           label=f'Baseline: {np.mean(waveform_1[:50]):.0f} ADC', linewidth=2)\n",
    "ax.set_xlabel('Time (ns)', fontsize=12, fontweight='bold')\n",
    "ax.set_ylabel('ADC Value', fontsize=12, fontweight='bold')\n",
    "ax.set_title(f'Event 1: E={df[\"ENERGY\"].iloc[1]} ADC, E_short={df[\"ENERGYSHORT\"].iloc[1]} ADC',\n",
    "             fontsize=13, fontweight='bold')\n",
    "ax.legend(fontsize=11)\n",
    "ax.grid(True, alpha=0.3)\n",
    "\n",
    "plt.tight_layout()\n",
    "plt.show()\n",
    "\n",
    "print(\"✓ Raw waveforms plotted\")\n",
    "print(\"\\nNote: Negative-going pulses are typical for PMT signals\")"
   ]
  },
  {
   "cell_type": "markdown",
   "metadata": {},
   "source": [
    "## 4. Calculate PSD Parameter\n",
    "\n",
    "PSD = (ENERGY - ENERGYSHORT) / ENERGY\n",
    "\n",
    "For gamma rays, we expect low PSD values since gammas produce less slow scintillation light."
   ]
  },
  {
   "cell_type": "code",
   "execution_count": null,
   "metadata": {},
   "outputs": [],
   "source": [
    "# Calculate PSD\n",
    "df = calculate_psd_ratio(df)\n",
    "\n",
    "print(\"\\nPSD Statistics:\")\n",
    "print(f\"  Mean PSD: {df['PSD'].mean():.4f}\")\n",
    "print(f\"  Std PSD:  {df['PSD'].std():.4f}\")\n",
    "print(f\"  Range:    [{df['PSD'].min():.4f}, {df['PSD'].max():.4f}]\")\n",
    "\n",
    "print(\"\\nPer-event PSD values:\")\n",
    "for i, row in df.iterrows():\n",
    "    print(f\"  Event {i}: E={row['ENERGY']:4d}, E_short={row['ENERGYSHORT']:3d}, PSD={row['PSD']:.4f}\")\n",
    "\n",
    "print(\"\\n✓ These low PSD values are expected for gamma rays!\")"
   ]
  },
  {
   "cell_type": "markdown",
   "metadata": {},
   "source": [
    "## 5. Energy Spectrum\n",
    "\n",
    "For real Co-60 data with more events, we would see two distinct peaks at the characteristic gamma energies."
   ]
  },
  {
   "cell_type": "code",
   "execution_count": null,
   "metadata": {},
   "outputs": [],
   "source": [
    "fig, ax = plt.subplots(figsize=(12, 6))\n",
    "\n",
    "# Plot energy distribution\n",
    "ax.hist(df['ENERGY'], bins=50, alpha=0.7, edgecolor='black', linewidth=1.2)\n",
    "ax.set_xlabel('Energy (ADC)', fontsize=13, fontweight='bold')\n",
    "ax.set_ylabel('Counts', fontsize=13, fontweight='bold')\n",
    "ax.set_title('Co-60 Energy Spectrum (Uncalibrated)', fontsize=14, fontweight='bold')\n",
    "ax.grid(True, alpha=0.3, axis='y')\n",
    "\n",
    "# Mark the two events\n",
    "for i, energy in enumerate(df['ENERGY']):\n",
    "    ax.axvline(energy, color='red', linestyle='--', alpha=0.5,\n",
    "               label=f'Event {i}: {energy} ADC' if i < 2 else None)\n",
    "\n",
    "ax.legend(fontsize=11)\n",
    "plt.tight_layout()\n",
    "plt.show()\n",
    "\n",
    "print(\"\\n✓ With more events, you would see two distinct peaks corresponding to:\")\n",
    "print(\"   - 1173.2 keV gamma ray\")\n",
    "print(\"   - 1332.5 keV gamma ray\")"
   ]
  },
  {
   "cell_type": "markdown",
   "metadata": {},
   "source": [
    "## 6. PSD vs Energy Scatter Plot"
   ]
  },
  {
   "cell_type": "code",
   "execution_count": null,
   "metadata": {},
   "outputs": [],
   "source": [
    "fig, ax = plt.subplots(figsize=(12, 7))\n",
    "\n",
    "# Scatter plot\n",
    "ax.scatter(df['ENERGY'], df['PSD'], s=100, c='blue', alpha=0.7,\n",
    "           edgecolors='black', linewidth=2, label='Co-60 gamma events')\n",
    "\n",
    "ax.set_xlabel('Energy (ADC)', fontsize=13, fontweight='bold')\n",
    "ax.set_ylabel('PSD Parameter', fontsize=13, fontweight='bold')\n",
    "ax.set_title('PSD vs Energy - Co-60 Source', fontsize=14, fontweight='bold')\n",
    "ax.legend(fontsize=12)\n",
    "ax.grid(True, alpha=0.3)\n",
    "\n",
    "# Add reference region for gamma rays\n",
    "ax.axhspan(0, 0.15, alpha=0.1, color='blue', label='Typical gamma region')\n",
    "ax.text(df['ENERGY'].mean(), 0.14, 'Gamma Region', \n",
    "        ha='center', fontsize=11, color='blue', fontweight='bold')\n",
    "\n",
    "plt.tight_layout()\n",
    "plt.show()\n",
    "\n",
    "print(\"\\n✓ PSD scatter plot shows gamma-ray signature\")\n",
    "print(\"   (Low PSD values indicate gamma rays)\")"
   ]
  },
  {
   "cell_type": "markdown",
   "metadata": {},
   "source": [
    "## Summary\n",
    "\n",
    "In this notebook, we demonstrated:\n",
    "\n",
    "✅ **Data Loading**: Successfully loaded real waveform data from CSV\n",
    "- Parsed 368 waveform samples per event\n",
    "- Extracted ENERGY and ENERGYSHORT parameters\n",
    "\n",
    "✅ **Waveform Visualization**: Plotted raw detector pulses\n",
    "- Observed negative-going PMT signals\n",
    "- Identified baseline and pulse characteristics\n",
    "\n",
    "✅ **PSD Calculation**: Computed tail-to-total ratio\n",
    "- Low PSD values (~0.062-0.057) confirm gamma-ray events\n",
    "- Expected for Co-60 (pure gamma source)\n",
    "\n",
    "✅ **Energy Analysis**: Examined uncalibrated spectrum\n",
    "- Two events with different energies observed\n",
    "- Ready for energy calibration in next notebook\n",
    "\n",
    "## Next Steps\n",
    "\n",
    "Continue to **Real Data Example 2** for:\n",
    "- Energy calibration using Co-60's known peak energies\n",
    "- Converting ADC values to keV\n",
    "- Peak finding and Gaussian fitting\n",
    "- Energy resolution calculation"
   ]
  }
 ],
 "metadata": {
  "kernelspec": {
   "display_name": "Python 3",
   "language": "python",
   "name": "python3"
  },
  "language_info": {
   "codemirror_mode": {
    "name": "ipython",
    "version": 3
   },
   "file_extension": ".py",
   "mimetype": "text/x-python",
   "name": "python",
   "nbconvert_exporter": "python",
   "pygments_lexer": "ipython3",
   "version": "3.8.0"
  }
 },
 "nbformat": 4,
 "nbformat_minor": 4
}
