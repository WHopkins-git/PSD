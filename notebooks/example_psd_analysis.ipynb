{
 "cells": [
  {
   "cell_type": "markdown",
   "metadata": {},
   "source": [
    "# PSD Analysis Example\n",
    "\n",
    "This notebook demonstrates a complete PSD (Pulse Shape Discrimination) analysis workflow\n",
    "for neutron/gamma discrimination using the psd_analysis toolkit."
   ]
  },
  {
   "cell_type": "markdown",
   "metadata": {},
   "source": [
    "## 1. Setup and Imports"
   ]
  },
  {
   "cell_type": "code",
   "execution_count": null,
   "metadata": {},
   "outputs": [],
   "source": [
    "import sys\n",
    "import numpy as np\n",
    "import pandas as pd\n",
    "import matplotlib.pyplot as plt\n",
    "\n",
    "# Add parent directory to path if running from notebooks/\n",
    "sys.path.insert(0, '..')\n",
    "\n",
    "from psd_analysis import (\n",
    "    load_psd_data,\n",
    "    validate_events,\n",
    "    calculate_psd_ratio,\n",
    "    calibrate_energy,\n",
    "    calculate_figure_of_merit\n",
    ")\n",
    "from psd_analysis.visualization import (\n",
    "    plot_psd_scatter,\n",
    "    plot_energy_spectra,\n",
    "    plot_calibration_curve\n",
    ")\n",
    "\n",
    "%matplotlib inline\n",
    "plt.style.use('seaborn-v0_8-darkgrid')"
   ]
  },
  {
   "cell_type": "markdown",
   "metadata": {},
   "source": [
    "## 2. Load Data\n",
    "\n",
    "Load raw waveform data from CSV files. Update the file paths to point to your data."
   ]
  },
  {
   "cell_type": "code",
   "execution_count": null,
   "metadata": {},
   "outputs": [],
   "source": [
    "# Load your data file\n",
    "# Example: df = load_psd_data('../data/raw/measurement_001.csv')\n",
    "\n",
    "# For demonstration, create synthetic data\n",
    "print(\"Loading data...\")\n",
    "# df = load_psd_data('your_data_file.csv')\n",
    "# print(f\"Loaded {len(df)} events\")\n",
    "# print(f\"Columns: {df.columns.tolist()}\")"
   ]
  },
  {
   "cell_type": "markdown",
   "metadata": {},
   "source": [
    "## 3. Quality Control\n",
    "\n",
    "Apply quality control filters to remove saturated pulses, pile-up events, and unstable baselines."
   ]
  },
  {
   "cell_type": "code",
   "execution_count": null,
   "metadata": {},
   "outputs": [],
   "source": [
    "# Apply quality control\n",
    "# valid_mask, qc_report = validate_events(df)\n",
    "# df_clean = df[valid_mask].copy()\n",
    "\n",
    "# print(\"\\nQuality Control Summary:\")\n",
    "# print(f\"  Total events: {qc_report['total_events']}\")\n",
    "# print(f\"  Valid events: {qc_report['valid_events']}\")\n",
    "# print(f\"  Rejection rate: {qc_report['rejection_rate']*100:.2f}%\")"
   ]
  },
  {
   "cell_type": "markdown",
   "metadata": {},
   "source": [
    "## 4. Energy Calibration\n",
    "\n",
    "Calibrate energy scale using known gamma sources (Cs-137, Co-60, etc.)."
   ]
  },
  {
   "cell_type": "code",
   "execution_count": null,
   "metadata": {},
   "outputs": [],
   "source": [
    "# Define calibration points (ADC channel, energy in keV)\n",
    "# Example: Cs-137 Compton edge and photopeak\n",
    "# calibration_points = [\n",
    "#     (2500, 477.0),   # Cs-137 Compton edge\n",
    "#     (3500, 661.7)    # Cs-137 photopeak\n",
    "# ]\n",
    "\n",
    "# Apply calibration\n",
    "# df_clean = calibrate_energy(\n",
    "#     df_clean,\n",
    "#     calibration_points,\n",
    "#     method='linear'\n",
    "# )\n",
    "\n",
    "# Plot calibration curve\n",
    "# plot_calibration_curve(calibration_points, df_clean['cal_func'].iloc[0])\n",
    "# plt.title('Energy Calibration')\n",
    "# plt.show()"
   ]
  },
  {
   "cell_type": "markdown",
   "metadata": {},
   "source": [
    "## 5. PSD Analysis\n",
    "\n",
    "Calculate PSD parameter for neutron/gamma discrimination."
   ]
  },
  {
   "cell_type": "code",
   "execution_count": null,
   "metadata": {},
   "outputs": [],
   "source": [
    "# Calculate PSD ratio\n",
    "# df_clean = calculate_psd_ratio(df_clean)\n",
    "\n",
    "# print(\"\\nPSD Statistics:\")\n",
    "# print(f\"  Mean PSD: {df_clean['PSD'].mean():.4f}\")\n",
    "# print(f\"  Std PSD: {df_clean['PSD'].std():.4f}\")\n",
    "# print(f\"  PSD range: [{df_clean['PSD'].min():.4f}, {df_clean['PSD'].max():.4f}]\")"
   ]
  },
  {
   "cell_type": "markdown",
   "metadata": {},
   "source": [
    "## 6. Visualization\n",
    "\n",
    "Create PSD scatter plots and energy spectra."
   ]
  },
  {
   "cell_type": "code",
   "execution_count": null,
   "metadata": {},
   "outputs": [],
   "source": [
    "# PSD scatter plot\n",
    "# fig, ax = plt.subplots(figsize=(10, 6))\n",
    "# plot_psd_scatter(\n",
    "#     df_clean,\n",
    "#     energy_range=(300, 1500),  # Focus on specific energy range\n",
    "#     ax=ax\n",
    "# )\n",
    "# plt.show()"
   ]
  },
  {
   "cell_type": "code",
   "execution_count": null,
   "metadata": {},
   "outputs": [],
   "source": [
    "# Energy spectrum\n",
    "# fig, ax = plt.subplots(figsize=(10, 6))\n",
    "# plot_energy_spectra(\n",
    "#     df_clean,\n",
    "#     separate_particles=True,  # Show neutron/gamma separately if labeled\n",
    "#     ax=ax\n",
    "# )\n",
    "# plt.show()"
   ]
  },
  {
   "cell_type": "markdown",
   "metadata": {},
   "source": [
    "## 7. Figure of Merit\n",
    "\n",
    "Calculate FoM for PSD performance (requires labeled data)."
   ]
  },
  {
   "cell_type": "code",
   "execution_count": null,
   "metadata": {},
   "outputs": [],
   "source": [
    "# If you have labeled neutron/gamma data:\n",
    "# fom = calculate_figure_of_merit(\n",
    "#     df_clean,\n",
    "#     energy_range=(800, 1200)  # Typical energy range for FoM\n",
    "# )\n",
    "# print(f\"\\nFigure of Merit: {fom:.3f}\")"
   ]
  },
  {
   "cell_type": "markdown",
   "metadata": {},
   "source": [
    "## 8. Machine Learning Classification\n",
    "\n",
    "Optional: Use ML models for enhanced discrimination."
   ]
  },
  {
   "cell_type": "code",
   "execution_count": null,
   "metadata": {},
   "outputs": [],
   "source": [
    "# from psd_analysis.ml.classical import ClassicalMLClassifier\n",
    "\n",
    "# # Load pre-trained model\n",
    "# clf = ClassicalMLClassifier(method='random_forest')\n",
    "# clf.load('../models/psd_classifier.pkl')\n",
    "\n",
    "# # Predict\n",
    "# predictions, probabilities = clf.predict(df_clean)\n",
    "# df_clean['PARTICLE_ML'] = ['neutron' if p==1 else 'gamma' for p in predictions]\n",
    "# df_clean['CONFIDENCE'] = probabilities.max(axis=1)\n",
    "\n",
    "# print(f\"\\nML Classification:\")\n",
    "# print(f\"  Neutrons: {(predictions==1).sum()}\")\n",
    "# print(f\"  Gammas: {(predictions==0).sum()}\")\n",
    "# print(f\"  Mean confidence: {df_clean['CONFIDENCE'].mean():.3f}\")"
   ]
  },
  {
   "cell_type": "markdown",
   "metadata": {},
   "source": [
    "## 9. Isotope Identification\n",
    "\n",
    "Identify isotopes from gamma spectrum."
   ]
  },
  {
   "cell_type": "code",
   "execution_count": null,
   "metadata": {},
   "outputs": [],
   "source": [
    "# from psd_analysis.spectroscopy import identify_isotopes\n",
    "\n",
    "# # Identify isotopes (requires calibrated energy)\n",
    "# if 'ENERGY_KEV' in df_clean.columns:\n",
    "#     # Select gamma events if available\n",
    "#     if 'PARTICLE' in df_clean.columns:\n",
    "#         df_gamma = df_clean[df_clean['PARTICLE'] == 'gamma']\n",
    "#     else:\n",
    "#         df_gamma = df_clean\n",
    "#     \n",
    "#     results = identify_isotopes(\n",
    "#         df_gamma['ENERGY_KEV'].values,\n",
    "#         prominence=50,\n",
    "#         tolerance_keV=10,\n",
    "#         min_confidence=0.5\n",
    "#     )\n",
    "#     \n",
    "#     print(\"\\nIdentified Isotopes:\")\n",
    "#     for isotope, info in results['identified_isotopes'].items():\n",
    "#         print(f\"  {isotope}: confidence={info['confidence_score']:.3f}\")\n",
    "#         print(f\"    Energies: {info['matched_energies']} keV\")"
   ]
  },
  {
   "cell_type": "markdown",
   "metadata": {},
   "source": [
    "## 10. Export Results"
   ]
  },
  {
   "cell_type": "code",
   "execution_count": null,
   "metadata": {},
   "outputs": [],
   "source": [
    "# Save processed data\n",
    "# df_clean.to_csv('../results/processed/analyzed_data.csv', index=False)\n",
    "# print(\"Results saved to ../results/processed/analyzed_data.csv\")"
   ]
  },
  {
   "cell_type": "markdown",
   "metadata": {},
   "source": [
    "## Next Steps\n",
    "\n",
    "- Adjust energy calibration for your specific detector\n",
    "- Train ML models on your labeled data using `scripts/ml_train.py`\n",
    "- Characterize your scintillator using `scripts/scintillator_characterization.py`\n",
    "- Generate comprehensive reports using `scripts/generate_reports.py`\n",
    "\n",
    "For more information, see the [README](../README.md) and [documentation](../docs/)."
   ]
  }
 ],
 "metadata": {
  "kernelspec": {
   "display_name": "Python 3",
   "language": "python",
   "name": "python3"
  },
  "language_info": {
   "codemirror_mode": {
    "name": "ipython",
    "version": 3
   },
   "file_extension": ".py",
   "mimetype": "text/x-python",
   "name": "python",
   "nbconvert_exporter": "python",
   "pygments_lexer": "ipython3",
   "version": "3.8.0"
  }
 },
 "nbformat": 4,
 "nbformat_minor": 4
}
